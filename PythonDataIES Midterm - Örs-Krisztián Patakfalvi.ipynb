{
 "cells": [
  {
   "cell_type": "code",
   "execution_count": 195,
   "metadata": {},
   "outputs": [],
   "source": [
    "from requests import get\n",
    "from bs4 import BeautifulSoup\n",
    "from pandas import DataFrame, merge"
   ]
  },
  {
   "cell_type": "code",
   "execution_count": 200,
   "metadata": {},
   "outputs": [],
   "source": [
    "class Downloader:\n",
    "    '''\n",
    "    Download manager class for characters.\n",
    "    It contains methods for collecting character links and data.\n",
    "    '''\n",
    "    \n",
    "    def __init__(self):\n",
    "        self.link = 'http://wiki.lspace.org/mediawiki/List_of_Pratchett_characters'\n",
    "        pass\n",
    "    \n",
    "    def get_links_to_characters(self): \n",
    "        '''\n",
    "        Parse the links to the characters, saves them in self.links and also returns them\n",
    "        '''   \n",
    "        response = get(self.link)\n",
    "        response.encoding = 'UTF-8'\n",
    "        \n",
    "        soup = BeautifulSoup(response.text, 'html')\n",
    "        lis = soup.find('span',{'id':'Unseen_University_and_the_Wizards'}).parent.previous.previous.parent.parent.parent.find_all('li')\n",
    "\n",
    "        self.links = ['http://wiki.lspace.org' + li.find('a')['href'] for li in lis]\n",
    "       \n",
    "        return self.links\n",
    "    \n",
    "    def get_character_data(self):\n",
    "        '''\n",
    "        Parse character pages.\n",
    "        Creates DataFrame linking the particular character with the book he is appearing in. \n",
    "        '''   \n",
    "        self.data = DataFrame(columns=['book', 'character_name'])\n",
    "        \n",
    "        for link in self.links:\n",
    "            characterPage = CharacterPage(link)\n",
    "            name = characterPage.get_character_name()\n",
    "            books = characterPage.get_character_books()\n",
    "            \n",
    "            for book in books:\n",
    "                self.data = self.data.append({\n",
    "                'book': book,\n",
    "                'character_name': name}, ignore_index = True)\n",
    "        \n",
    "        return self.data"
   ]
  },
  {
   "cell_type": "code",
   "execution_count": 204,
   "metadata": {},
   "outputs": [],
   "source": [
    "class CharacterPage:\n",
    "    '''\n",
    "    Class containing methods for parsing a character page.\n",
    "    '''\n",
    "    \n",
    "    def __init__(self, link):\n",
    "        self.link = link\n",
    "        response = get(link)\n",
    "        response.encoding = 'UTF-8'\n",
    "        \n",
    "        self.soup = BeautifulSoup(response.text, 'html')\n",
    "    \n",
    "    def get_character_name(self):\n",
    "        '''\n",
    "        Parse the name of the character from the character page.\n",
    "        '''\n",
    "        self.name = self.soup.find('h1', { 'id': 'firstHeading'}).text\n",
    "        \n",
    "        return self.name\n",
    "    \n",
    "    def get_character_books(self):\n",
    "        '''\n",
    "        Parse the books which the character is appearing in.\n",
    "        '''  \n",
    "            \n",
    "        self.books = []\n",
    "        \n",
    "        table = self.soup.find('table', {\"class\": 'toccolours'})\n",
    "        list_of_links = table.find_all('a')\n",
    "        for link in list_of_links:\n",
    "            if link.get('title') and link.get('title').find(\"Book:\") != -1:\n",
    "                self.books.append(link.text)\n",
    "        \n",
    "        return self.books"
   ]
  },
  {
   "cell_type": "code",
   "execution_count": 205,
   "metadata": {},
   "outputs": [],
   "source": [
    "downloader = Downloader()\n",
    "\n",
    "# Exercise 1\n",
    "downloader.get_links_to_characters()\n",
    "\n",
    "# Exercise 2\n",
    "df = downloader.get_character_data()"
   ]
  },
  {
   "cell_type": "code",
   "execution_count": 206,
   "metadata": {},
   "outputs": [
    {
     "name": "stdout",
     "output_type": "stream",
     "text": [
      "In book Men at Arms 14 character(s) are reported.\n",
      "In 1 book(s) appear both Visit-The-Infidel-With-Explanatory-Pamphlets and Evadne Cake.\n"
     ]
    }
   ],
   "source": [
    "# Exercise 3\n",
    "# a. How many characters is reported in the book Men at Arms?\n",
    "count = len(df[df[\"book\"] == \"Men at Arms\"])\n",
    "print('In book Men at Arms {} character(s) are reported.'.format(count))\n",
    "\n",
    "# b. In how many books appear both Visit-The-Infidel-With-Explanatory-Pamphlets and Evadne Cake?\n",
    "evadne = df[df[\"character_name\"] == \"Evadne Cake\"]\n",
    "visit = df[df[\"character_name\"] == \"Visit-The-Infidel-With-Explanatory-Pamphlets\"]\n",
    "\n",
    "count = len(merge(evadne, visit, how='inner', on=['book']))\n",
    "\n",
    "print('In {} book(s) appear both Visit-The-Infidel-With-Explanatory-Pamphlets and Evadne Cake.'.format(count))"
   ]
  }
 ],
 "metadata": {
  "kernelspec": {
   "display_name": "Python 3",
   "language": "python",
   "name": "python3"
  },
  "language_info": {
   "codemirror_mode": {
    "name": "ipython",
    "version": 3
   },
   "file_extension": ".py",
   "mimetype": "text/x-python",
   "name": "python",
   "nbconvert_exporter": "python",
   "pygments_lexer": "ipython3",
   "version": "3.8.1"
  }
 },
 "nbformat": 4,
 "nbformat_minor": 4
}
